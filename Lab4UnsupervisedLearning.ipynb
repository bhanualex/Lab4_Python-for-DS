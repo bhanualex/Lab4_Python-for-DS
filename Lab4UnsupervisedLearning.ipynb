{
 "cells": [
  {
   "cell_type": "markdown",
   "id": "83f26a29",
   "metadata": {
    "id": "83f26a29"
   },
   "source": [
    "# Unsupervised Lab Session"
   ]
  },
  {
   "cell_type": "markdown",
   "id": "8ea571d1",
   "metadata": {
    "id": "8ea571d1"
   },
   "source": [
    "## Learning outcomes:\n",
    "- Exploratory data analysis and data preparation for model building.\n",
    "- PCA for dimensionality reduction.\n",
    "- K-means and Agglomerative Clustering"
   ]
  },
  {
   "cell_type": "markdown",
   "id": "fd7f778a",
   "metadata": {
    "id": "fd7f778a"
   },
   "source": [
    "## Problem Statement\n",
    "Based on the given marketing campigan dataset, segment the similar customers into suitable clusters. Analyze the clusters and provide your insights to help the organization promote their business."
   ]
  },
  {
   "cell_type": "markdown",
   "id": "33b58f8f",
   "metadata": {
    "id": "33b58f8f"
   },
   "source": [
    "## Context:\n",
    "- Customer Personality Analysis is a detailed analysis of a company’s ideal customers. It helps a business to better understand its customers and makes it easier for them to modify products according to the specific needs, behaviors and concerns of different types of customers.\n",
    "- Customer personality analysis helps a business to modify its product based on its target customers from different types of customer segments. For example, instead of spending money to market a new product to every customer in the company’s database, a company can analyze which customer segment is most likely to buy the product and then market the product only on that particular segment."
   ]
  },
  {
   "cell_type": "markdown",
   "id": "867166aa",
   "metadata": {
    "id": "867166aa"
   },
   "source": [
    "## About dataset\n",
    "- Source: https://www.kaggle.com/datasets/imakash3011/customer-personality-analysis?datasetId=1546318&sortBy=voteCount\n",
    "\n",
    "### Attribute Information:\n",
    "- ID: Customer's unique identifier\n",
    "- Year_Birth: Customer's birth year\n",
    "- Education: Customer's education level\n",
    "- Marital_Status: Customer's marital status\n",
    "- Income: Customer's yearly household income\n",
    "- Kidhome: Number of children in customer's household\n",
    "- Teenhome: Number of teenagers in customer's household\n",
    "- Dt_Customer: Date of customer's enrollment with the company\n",
    "- Recency: Number of days since customer's last purchase\n",
    "- Complain: 1 if the customer complained in the last 2 years, 0 otherwise\n",
    "- MntWines: Amount spent on wine in last 2 years\n",
    "- MntFruits: Amount spent on fruits in last 2 years\n",
    "- MntMeatProducts: Amount spent on meat in last 2 years\n",
    "- MntFishProducts: Amount spent on fish in last 2 years\n",
    "- MntSweetProducts: Amount spent on sweets in last 2 years\n",
    "- MntGoldProds: Amount spent on gold in last 2 years\n",
    "- NumDealsPurchases: Number of purchases made with a discount\n",
    "- AcceptedCmp1: 1 if customer accepted the offer in the 1st campaign, 0 otherwise\n",
    "- AcceptedCmp2: 1 if customer accepted the offer in the 2nd campaign, 0 otherwise\n",
    "- AcceptedCmp3: 1 if customer accepted the offer in the 3rd campaign, 0 otherwise\n",
    "- AcceptedCmp4: 1 if customer accepted the offer in the 4th campaign, 0 otherwise\n",
    "- AcceptedCmp5: 1 if customer accepted the offer in the 5th campaign, 0 otherwise\n",
    "- Response: 1 if customer accepted the offer in the last campaign, 0 otherwise\n",
    "- NumWebPurchases: Number of purchases made through the company’s website\n",
    "- NumCatalogPurchases: Number of purchases made using a catalogue\n",
    "- NumStorePurchases: Number of purchases made directly in stores\n",
    "- NumWebVisitsMonth: Number of visits to company’s website in the last month"
   ]
  },
  {
   "cell_type": "markdown",
   "id": "5a830406",
   "metadata": {
    "id": "5a830406"
   },
   "source": [
    "### 1. Import required libraries"
   ]
  },
  {
   "cell_type": "code",
   "execution_count": 1,
   "id": "d65c5528",
   "metadata": {
    "id": "d65c5528"
   },
   "outputs": [],
   "source": [
    "import pandas as pd\n",
    "from sklearn.impute import SimpleImputer\n",
    "from sklearn.preprocessing import StandardScaler\n",
    "from sklearn.cluster import KMeans\n",
    "from datetime import date\n",
    "from sklearn.preprocessing import LabelEncoder\n",
    "from sklearn.preprocessing import MinMaxScaler\n",
    "from sklearn.decomposition import PCA"
   ]
  },
  {
   "cell_type": "markdown",
   "id": "c80eb960",
   "metadata": {
    "id": "c80eb960"
   },
   "source": [
    "### 2. Load the CSV file (i.e marketing.csv) and display the first 5 rows of the dataframe. Check the shape and info of the dataset."
   ]
  },
  {
   "cell_type": "code",
   "execution_count": 2,
   "id": "52e881fc-c93c-40df-9735-4002994a0de3",
   "metadata": {},
   "outputs": [],
   "source": [
    "# Try using different encodings to find the correct one\n",
    "\n",
    "df = pd.read_csv('sales_data_sample.csv', encoding='ISO-8859-1')  # or encoding='latin1', or encoding='cp1252'"
   ]
  },
  {
   "cell_type": "code",
   "execution_count": 3,
   "id": "1caebc10",
   "metadata": {
    "id": "1caebc10"
   },
   "outputs": [],
   "source": [
    "df = pd.read_csv('marketing.csv')"
   ]
  },
  {
   "cell_type": "markdown",
   "id": "9ef75724",
   "metadata": {
    "id": "9ef75724"
   },
   "source": [
    "### 3. Check the percentage of missing values? If there is presence of missing values, treat them accordingly."
   ]
  },
  {
   "cell_type": "code",
   "execution_count": 4,
   "id": "f2c231df",
   "metadata": {
    "id": "f2c231df"
   },
   "outputs": [
    {
     "name": "stdout",
     "output_type": "stream",
     "text": [
      "Percentage of missing values in each column:\n",
      " ID                     0.000000\n",
      "Year_Birth             0.000000\n",
      "Education              0.000000\n",
      "Marital_Status         0.000000\n",
      "Income                 1.071429\n",
      "Kidhome                0.000000\n",
      "Teenhome               0.000000\n",
      "Dt_Customer            0.000000\n",
      "Recency                0.000000\n",
      "MntWines               0.000000\n",
      "MntFruits              0.000000\n",
      "MntMeatProducts        0.000000\n",
      "MntFishProducts        0.000000\n",
      "MntSweetProducts       0.000000\n",
      "MntGoldProds           0.000000\n",
      "NumDealsPurchases      0.000000\n",
      "NumWebPurchases        0.000000\n",
      "NumCatalogPurchases    0.000000\n",
      "NumStorePurchases      0.000000\n",
      "NumWebVisitsMonth      0.000000\n",
      "AcceptedCmp3           0.000000\n",
      "AcceptedCmp4           0.000000\n",
      "AcceptedCmp5           0.000000\n",
      "AcceptedCmp1           0.000000\n",
      "AcceptedCmp2           0.000000\n",
      "Complain               0.000000\n",
      "Response               0.000000\n",
      "dtype: float64\n"
     ]
    }
   ],
   "source": [
    "# Calculate the percentage of missing values in each column\n",
    "\n",
    "missing_percentage = df.isnull().mean() * 100\n",
    "print(\"Percentage of missing values in each column:\\n\", missing_percentage)"
   ]
  },
  {
   "cell_type": "markdown",
   "id": "86f3709e",
   "metadata": {
    "id": "86f3709e"
   },
   "source": [
    "### 4. Check if there are any duplicate records in the dataset? If any drop them."
   ]
  },
  {
   "cell_type": "code",
   "execution_count": 5,
   "id": "2970671a",
   "metadata": {
    "id": "2970671a"
   },
   "outputs": [
    {
     "name": "stdout",
     "output_type": "stream",
     "text": [
      "Number of duplicate records: 0\n",
      "Dataset after dropping duplicates:\n",
      "          ID  Year_Birth   Education Marital_Status   Income  Kidhome  \\\n",
      "0      5524        1957  Graduation         Single  58138.0        0   \n",
      "1      2174        1954  Graduation         Single  46344.0        1   \n",
      "2      4141        1965  Graduation       Together  71613.0        0   \n",
      "3      6182        1984  Graduation       Together  26646.0        1   \n",
      "4      5324        1981         PhD        Married  58293.0        1   \n",
      "...     ...         ...         ...            ...      ...      ...   \n",
      "2235  10870        1967  Graduation        Married  61223.0        0   \n",
      "2236   4001        1946         PhD       Together  64014.0        2   \n",
      "2237   7270        1981  Graduation       Divorced  56981.0        0   \n",
      "2238   8235        1956      Master       Together  69245.0        0   \n",
      "2239   9405        1954         PhD        Married  52869.0        1   \n",
      "\n",
      "      Teenhome Dt_Customer  Recency  MntWines  ...  NumCatalogPurchases  \\\n",
      "0            0    4/9/2012       58       635  ...                   10   \n",
      "1            1    8/3/2014       38        11  ...                    1   \n",
      "2            0  21-08-2013       26       426  ...                    2   \n",
      "3            0   10/2/2014       26        11  ...                    0   \n",
      "4            0  19-01-2014       94       173  ...                    3   \n",
      "...        ...         ...      ...       ...  ...                  ...   \n",
      "2235         1  13-06-2013       46       709  ...                    3   \n",
      "2236         1   10/6/2014       56       406  ...                    2   \n",
      "2237         0  25-01-2014       91       908  ...                    3   \n",
      "2238         1  24-01-2014        8       428  ...                    5   \n",
      "2239         1  15-10-2012       40        84  ...                    1   \n",
      "\n",
      "      NumStorePurchases  NumWebVisitsMonth  AcceptedCmp3  AcceptedCmp4  \\\n",
      "0                     4                  7             0             0   \n",
      "1                     2                  5             0             0   \n",
      "2                    10                  4             0             0   \n",
      "3                     4                  6             0             0   \n",
      "4                     6                  5             0             0   \n",
      "...                 ...                ...           ...           ...   \n",
      "2235                  4                  5             0             0   \n",
      "2236                  5                  7             0             0   \n",
      "2237                 13                  6             0             1   \n",
      "2238                 10                  3             0             0   \n",
      "2239                  4                  7             0             0   \n",
      "\n",
      "      AcceptedCmp5  AcceptedCmp1  AcceptedCmp2  Complain  Response  \n",
      "0                0             0             0         0         1  \n",
      "1                0             0             0         0         0  \n",
      "2                0             0             0         0         0  \n",
      "3                0             0             0         0         0  \n",
      "4                0             0             0         0         0  \n",
      "...            ...           ...           ...       ...       ...  \n",
      "2235             0             0             0         0         0  \n",
      "2236             0             1             0         0         0  \n",
      "2237             0             0             0         0         0  \n",
      "2238             0             0             0         0         0  \n",
      "2239             0             0             0         0         1  \n",
      "\n",
      "[2240 rows x 27 columns]\n"
     ]
    }
   ],
   "source": [
    "# Check for duplicate records\n",
    "duplicate_records = df.duplicated().sum()\n",
    "print(f\"Number of duplicate records: {duplicate_records}\")\n",
    "\n",
    "# Drop duplicate records\n",
    "df = df.drop_duplicates()\n",
    "print(\"Dataset after dropping duplicates:\\n\", df)\n"
   ]
  },
  {
   "cell_type": "markdown",
   "id": "3a6f2b5a",
   "metadata": {
    "id": "3a6f2b5a"
   },
   "source": [
    "### 5. Drop the columns which you think redundant for the analysis "
   ]
  },
  {
   "cell_type": "code",
   "execution_count": 6,
   "id": "a9ca818b",
   "metadata": {
    "id": "a9ca818b"
   },
   "outputs": [
    {
     "name": "stdout",
     "output_type": "stream",
     "text": [
      "Dataset after dropping redundant columns:\n",
      "          ID  Year_Birth   Education Marital_Status   Income  Kidhome  \\\n",
      "0      5524        1957  Graduation         Single  58138.0        0   \n",
      "1      2174        1954  Graduation         Single  46344.0        1   \n",
      "2      4141        1965  Graduation       Together  71613.0        0   \n",
      "3      6182        1984  Graduation       Together  26646.0        1   \n",
      "4      5324        1981         PhD        Married  58293.0        1   \n",
      "...     ...         ...         ...            ...      ...      ...   \n",
      "2235  10870        1967  Graduation        Married  61223.0        0   \n",
      "2236   4001        1946         PhD       Together  64014.0        2   \n",
      "2237   7270        1981  Graduation       Divorced  56981.0        0   \n",
      "2238   8235        1956      Master       Together  69245.0        0   \n",
      "2239   9405        1954         PhD        Married  52869.0        1   \n",
      "\n",
      "      Teenhome Dt_Customer  MntWines  MntFruits  ...  NumCatalogPurchases  \\\n",
      "0            0    4/9/2012       635         88  ...                   10   \n",
      "1            1    8/3/2014        11          1  ...                    1   \n",
      "2            0  21-08-2013       426         49  ...                    2   \n",
      "3            0   10/2/2014        11          4  ...                    0   \n",
      "4            0  19-01-2014       173         43  ...                    3   \n",
      "...        ...         ...       ...        ...  ...                  ...   \n",
      "2235         1  13-06-2013       709         43  ...                    3   \n",
      "2236         1   10/6/2014       406          0  ...                    2   \n",
      "2237         0  25-01-2014       908         48  ...                    3   \n",
      "2238         1  24-01-2014       428         30  ...                    5   \n",
      "2239         1  15-10-2012        84          3  ...                    1   \n",
      "\n",
      "      NumStorePurchases  NumWebVisitsMonth  AcceptedCmp3  AcceptedCmp4  \\\n",
      "0                     4                  7             0             0   \n",
      "1                     2                  5             0             0   \n",
      "2                    10                  4             0             0   \n",
      "3                     4                  6             0             0   \n",
      "4                     6                  5             0             0   \n",
      "...                 ...                ...           ...           ...   \n",
      "2235                  4                  5             0             0   \n",
      "2236                  5                  7             0             0   \n",
      "2237                 13                  6             0             1   \n",
      "2238                 10                  3             0             0   \n",
      "2239                  4                  7             0             0   \n",
      "\n",
      "      AcceptedCmp5  AcceptedCmp1  AcceptedCmp2  Complain  Response  \n",
      "0                0             0             0         0         1  \n",
      "1                0             0             0         0         0  \n",
      "2                0             0             0         0         0  \n",
      "3                0             0             0         0         0  \n",
      "4                0             0             0         0         0  \n",
      "...            ...           ...           ...       ...       ...  \n",
      "2235             0             0             0         0         0  \n",
      "2236             0             1             0         0         0  \n",
      "2237             0             0             0         0         0  \n",
      "2238             0             0             0         0         0  \n",
      "2239             0             0             0         0         1  \n",
      "\n",
      "[2240 rows x 26 columns]\n"
     ]
    }
   ],
   "source": [
    "# Identify redundant columns (for example, columns with low variance or high correlation)\n",
    "redundant_columns = ['Recency']  # Manually identified in this example\n",
    "df = df.drop(columns=redundant_columns)\n",
    "print(\"Dataset after dropping redundant columns:\\n\", df)\n"
   ]
  },
  {
   "cell_type": "markdown",
   "id": "4ff0a112",
   "metadata": {
    "id": "4ff0a112"
   },
   "source": [
    "### 6. Check the unique categories in the column 'Marital_Status'\n",
    "- i) Group categories 'Married', 'Together' as 'relationship'\n",
    "- ii) Group categories 'Divorced', 'Widow', 'Alone', 'YOLO', and 'Absurd' as 'Single'."
   ]
  },
  {
   "cell_type": "code",
   "execution_count": 7,
   "id": "eb1be519",
   "metadata": {
    "id": "eb1be519"
   },
   "outputs": [
    {
     "name": "stdout",
     "output_type": "stream",
     "text": [
      "Unique categories in 'Marital_Status': ['Single' 'Together' 'Married' 'Divorced' 'Widow' 'Alone' 'Absurd' 'YOLO']\n",
      "Updated unique categories in 'Marital_Status': ['Single' 'Relationship']\n",
      "Dataset after grouping categories:\n",
      "          ID  Year_Birth   Education Marital_Status   Income  Kidhome  \\\n",
      "0      5524        1957  Graduation         Single  58138.0        0   \n",
      "1      2174        1954  Graduation         Single  46344.0        1   \n",
      "2      4141        1965  Graduation   Relationship  71613.0        0   \n",
      "3      6182        1984  Graduation   Relationship  26646.0        1   \n",
      "4      5324        1981         PhD   Relationship  58293.0        1   \n",
      "...     ...         ...         ...            ...      ...      ...   \n",
      "2235  10870        1967  Graduation   Relationship  61223.0        0   \n",
      "2236   4001        1946         PhD   Relationship  64014.0        2   \n",
      "2237   7270        1981  Graduation         Single  56981.0        0   \n",
      "2238   8235        1956      Master   Relationship  69245.0        0   \n",
      "2239   9405        1954         PhD   Relationship  52869.0        1   \n",
      "\n",
      "      Teenhome Dt_Customer  MntWines  MntFruits  ...  NumCatalogPurchases  \\\n",
      "0            0    4/9/2012       635         88  ...                   10   \n",
      "1            1    8/3/2014        11          1  ...                    1   \n",
      "2            0  21-08-2013       426         49  ...                    2   \n",
      "3            0   10/2/2014        11          4  ...                    0   \n",
      "4            0  19-01-2014       173         43  ...                    3   \n",
      "...        ...         ...       ...        ...  ...                  ...   \n",
      "2235         1  13-06-2013       709         43  ...                    3   \n",
      "2236         1   10/6/2014       406          0  ...                    2   \n",
      "2237         0  25-01-2014       908         48  ...                    3   \n",
      "2238         1  24-01-2014       428         30  ...                    5   \n",
      "2239         1  15-10-2012        84          3  ...                    1   \n",
      "\n",
      "      NumStorePurchases  NumWebVisitsMonth  AcceptedCmp3  AcceptedCmp4  \\\n",
      "0                     4                  7             0             0   \n",
      "1                     2                  5             0             0   \n",
      "2                    10                  4             0             0   \n",
      "3                     4                  6             0             0   \n",
      "4                     6                  5             0             0   \n",
      "...                 ...                ...           ...           ...   \n",
      "2235                  4                  5             0             0   \n",
      "2236                  5                  7             0             0   \n",
      "2237                 13                  6             0             1   \n",
      "2238                 10                  3             0             0   \n",
      "2239                  4                  7             0             0   \n",
      "\n",
      "      AcceptedCmp5  AcceptedCmp1  AcceptedCmp2  Complain  Response  \n",
      "0                0             0             0         0         1  \n",
      "1                0             0             0         0         0  \n",
      "2                0             0             0         0         0  \n",
      "3                0             0             0         0         0  \n",
      "4                0             0             0         0         0  \n",
      "...            ...           ...           ...       ...       ...  \n",
      "2235             0             0             0         0         0  \n",
      "2236             0             1             0         0         0  \n",
      "2237             0             0             0         0         0  \n",
      "2238             0             0             0         0         0  \n",
      "2239             0             0             0         0         1  \n",
      "\n",
      "[2240 rows x 26 columns]\n"
     ]
    }
   ],
   "source": [
    "# Check the unique categories in the 'Marital_Status' column\n",
    "unique_categories = df['Marital_Status'].unique()\n",
    "print(\"Unique categories in 'Marital_Status':\", unique_categories)\n",
    "\n",
    "# Group the categories as specified\n",
    "df['Marital_Status'] = df['Marital_Status'].replace({\n",
    "    'Married': 'Relationship',\n",
    "    'Together': 'Relationship',\n",
    "    'Divorced': 'Single',\n",
    "    'Widow': 'Single',\n",
    "    'Alone': 'Single',\n",
    "    'YOLO': 'Single',\n",
    "    'Absurd': 'Single'\n",
    "})\n",
    "\n",
    "# Check the updated unique categories\n",
    "updated_unique_categories = df['Marital_Status'].unique()\n",
    "print(\"Updated unique categories in 'Marital_Status':\", updated_unique_categories)\n",
    "\n",
    "print(\"Dataset after grouping categories:\\n\", df)"
   ]
  },
  {
   "cell_type": "markdown",
   "id": "9566bfbe",
   "metadata": {
    "id": "9566bfbe"
   },
   "source": [
    "### 7. Group the columns 'MntWines', 'MntFruits', 'MntMeatProducts', 'MntFishProducts', 'MntSweetProducts', and 'MntGoldProds' as 'Total_Expenses'"
   ]
  },
  {
   "cell_type": "code",
   "execution_count": 8,
   "id": "3c3fa800",
   "metadata": {
    "id": "3c3fa800"
   },
   "outputs": [
    {
     "name": "stdout",
     "output_type": "stream",
     "text": [
      "Dataset after grouping expenses into 'Total_Expenses':\n",
      "          ID  Year_Birth   Education Marital_Status   Income  Kidhome  \\\n",
      "0      5524        1957  Graduation         Single  58138.0        0   \n",
      "1      2174        1954  Graduation         Single  46344.0        1   \n",
      "2      4141        1965  Graduation   Relationship  71613.0        0   \n",
      "3      6182        1984  Graduation   Relationship  26646.0        1   \n",
      "4      5324        1981         PhD   Relationship  58293.0        1   \n",
      "...     ...         ...         ...            ...      ...      ...   \n",
      "2235  10870        1967  Graduation   Relationship  61223.0        0   \n",
      "2236   4001        1946         PhD   Relationship  64014.0        2   \n",
      "2237   7270        1981  Graduation         Single  56981.0        0   \n",
      "2238   8235        1956      Master   Relationship  69245.0        0   \n",
      "2239   9405        1954         PhD   Relationship  52869.0        1   \n",
      "\n",
      "      Teenhome Dt_Customer  NumDealsPurchases  NumWebPurchases  ...  \\\n",
      "0            0    4/9/2012                  3                8  ...   \n",
      "1            1    8/3/2014                  2                1  ...   \n",
      "2            0  21-08-2013                  1                8  ...   \n",
      "3            0   10/2/2014                  2                2  ...   \n",
      "4            0  19-01-2014                  5                5  ...   \n",
      "...        ...         ...                ...              ...  ...   \n",
      "2235         1  13-06-2013                  2                9  ...   \n",
      "2236         1   10/6/2014                  7                8  ...   \n",
      "2237         0  25-01-2014                  1                2  ...   \n",
      "2238         1  24-01-2014                  2                6  ...   \n",
      "2239         1  15-10-2012                  3                3  ...   \n",
      "\n",
      "      NumStorePurchases  NumWebVisitsMonth  AcceptedCmp3  AcceptedCmp4  \\\n",
      "0                     4                  7             0             0   \n",
      "1                     2                  5             0             0   \n",
      "2                    10                  4             0             0   \n",
      "3                     4                  6             0             0   \n",
      "4                     6                  5             0             0   \n",
      "...                 ...                ...           ...           ...   \n",
      "2235                  4                  5             0             0   \n",
      "2236                  5                  7             0             0   \n",
      "2237                 13                  6             0             1   \n",
      "2238                 10                  3             0             0   \n",
      "2239                  4                  7             0             0   \n",
      "\n",
      "      AcceptedCmp5  AcceptedCmp1  AcceptedCmp2  Complain  Response  \\\n",
      "0                0             0             0         0         1   \n",
      "1                0             0             0         0         0   \n",
      "2                0             0             0         0         0   \n",
      "3                0             0             0         0         0   \n",
      "4                0             0             0         0         0   \n",
      "...            ...           ...           ...       ...       ...   \n",
      "2235             0             0             0         0         0   \n",
      "2236             0             1             0         0         0   \n",
      "2237             0             0             0         0         0   \n",
      "2238             0             0             0         0         0   \n",
      "2239             0             0             0         0         1   \n",
      "\n",
      "      Total_Expenses  \n",
      "0               1617  \n",
      "1                 27  \n",
      "2                776  \n",
      "3                 53  \n",
      "4                422  \n",
      "...              ...  \n",
      "2235            1341  \n",
      "2236             444  \n",
      "2237            1241  \n",
      "2238             843  \n",
      "2239             172  \n",
      "\n",
      "[2240 rows x 21 columns]\n"
     ]
    }
   ],
   "source": [
    "# Group the specified columns into 'Total_Expenses'\n",
    "df['Total_Expenses'] = df[['MntWines', 'MntFruits', 'MntMeatProducts', 'MntFishProducts', 'MntSweetProducts', 'MntGoldProds']].sum(axis=1)\n",
    "\n",
    "# Drop the original individual columns if they are no longer needed\n",
    "df = df.drop(columns=['MntWines', 'MntFruits', 'MntMeatProducts', 'MntFishProducts', 'MntSweetProducts', 'MntGoldProds'])\n",
    "\n",
    "print(\"Dataset after grouping expenses into 'Total_Expenses':\\n\", df)"
   ]
  },
  {
   "cell_type": "markdown",
   "id": "bf0cd083",
   "metadata": {
    "id": "bf0cd083"
   },
   "source": [
    "### 8. Group the columns 'NumWebPurchases', 'NumCatalogPurchases', 'NumStorePurchases', and 'NumDealsPurchases' as 'Num_Total_Purchases'"
   ]
  },
  {
   "cell_type": "code",
   "execution_count": 9,
   "id": "9c535ede",
   "metadata": {
    "id": "9c535ede"
   },
   "outputs": [
    {
     "name": "stdout",
     "output_type": "stream",
     "text": [
      "Dataset after grouping purchases into 'Num_Total_Purchases':\n",
      "          ID  Year_Birth   Education Marital_Status   Income  Kidhome  \\\n",
      "0      5524        1957  Graduation         Single  58138.0        0   \n",
      "1      2174        1954  Graduation         Single  46344.0        1   \n",
      "2      4141        1965  Graduation   Relationship  71613.0        0   \n",
      "3      6182        1984  Graduation   Relationship  26646.0        1   \n",
      "4      5324        1981         PhD   Relationship  58293.0        1   \n",
      "...     ...         ...         ...            ...      ...      ...   \n",
      "2235  10870        1967  Graduation   Relationship  61223.0        0   \n",
      "2236   4001        1946         PhD   Relationship  64014.0        2   \n",
      "2237   7270        1981  Graduation         Single  56981.0        0   \n",
      "2238   8235        1956      Master   Relationship  69245.0        0   \n",
      "2239   9405        1954         PhD   Relationship  52869.0        1   \n",
      "\n",
      "      Teenhome Dt_Customer  NumWebVisitsMonth  AcceptedCmp3  AcceptedCmp4  \\\n",
      "0            0    4/9/2012                  7             0             0   \n",
      "1            1    8/3/2014                  5             0             0   \n",
      "2            0  21-08-2013                  4             0             0   \n",
      "3            0   10/2/2014                  6             0             0   \n",
      "4            0  19-01-2014                  5             0             0   \n",
      "...        ...         ...                ...           ...           ...   \n",
      "2235         1  13-06-2013                  5             0             0   \n",
      "2236         1   10/6/2014                  7             0             0   \n",
      "2237         0  25-01-2014                  6             0             1   \n",
      "2238         1  24-01-2014                  3             0             0   \n",
      "2239         1  15-10-2012                  7             0             0   \n",
      "\n",
      "      AcceptedCmp5  AcceptedCmp1  AcceptedCmp2  Complain  Response  \\\n",
      "0                0             0             0         0         1   \n",
      "1                0             0             0         0         0   \n",
      "2                0             0             0         0         0   \n",
      "3                0             0             0         0         0   \n",
      "4                0             0             0         0         0   \n",
      "...            ...           ...           ...       ...       ...   \n",
      "2235             0             0             0         0         0   \n",
      "2236             0             1             0         0         0   \n",
      "2237             0             0             0         0         0   \n",
      "2238             0             0             0         0         0   \n",
      "2239             0             0             0         0         1   \n",
      "\n",
      "      Total_Expenses  Num_Total_Purchases  \n",
      "0               1617                   25  \n",
      "1                 27                    6  \n",
      "2                776                   21  \n",
      "3                 53                    8  \n",
      "4                422                   19  \n",
      "...              ...                  ...  \n",
      "2235            1341                   18  \n",
      "2236             444                   22  \n",
      "2237            1241                   19  \n",
      "2238             843                   23  \n",
      "2239             172                   11  \n",
      "\n",
      "[2240 rows x 18 columns]\n"
     ]
    }
   ],
   "source": [
    "# Group the specified columns into 'Num_Total_Purchases'\n",
    "df['Num_Total_Purchases'] = df[['NumWebPurchases', 'NumCatalogPurchases', 'NumStorePurchases', 'NumDealsPurchases']].sum(axis=1)\n",
    "\n",
    "# Drop the original individual columns if they are no longer needed\n",
    "df = df.drop(columns=['NumWebPurchases', 'NumCatalogPurchases', 'NumStorePurchases', 'NumDealsPurchases'])\n",
    "\n",
    "print(\"Dataset after grouping purchases into 'Num_Total_Purchases':\\n\", df)"
   ]
  },
  {
   "cell_type": "markdown",
   "id": "52d2dca5",
   "metadata": {
    "id": "52d2dca5"
   },
   "source": [
    "### 9. Group the columns 'Kidhome' and 'Teenhome' as 'Kids'"
   ]
  },
  {
   "cell_type": "code",
   "execution_count": 10,
   "id": "f7c861a1",
   "metadata": {
    "id": "f7c861a1"
   },
   "outputs": [
    {
     "name": "stdout",
     "output_type": "stream",
     "text": [
      "Dataset after grouping Kidhome' and 'Teenhome into 'Kids':\n",
      "          ID  Year_Birth   Education Marital_Status   Income  Kidhome  \\\n",
      "0      5524        1957  Graduation         Single  58138.0        0   \n",
      "1      2174        1954  Graduation         Single  46344.0        1   \n",
      "2      4141        1965  Graduation   Relationship  71613.0        0   \n",
      "3      6182        1984  Graduation   Relationship  26646.0        1   \n",
      "4      5324        1981         PhD   Relationship  58293.0        1   \n",
      "...     ...         ...         ...            ...      ...      ...   \n",
      "2235  10870        1967  Graduation   Relationship  61223.0        0   \n",
      "2236   4001        1946         PhD   Relationship  64014.0        2   \n",
      "2237   7270        1981  Graduation         Single  56981.0        0   \n",
      "2238   8235        1956      Master   Relationship  69245.0        0   \n",
      "2239   9405        1954         PhD   Relationship  52869.0        1   \n",
      "\n",
      "      Teenhome Dt_Customer  NumWebVisitsMonth  AcceptedCmp3  AcceptedCmp4  \\\n",
      "0            0    4/9/2012                  7             0             0   \n",
      "1            1    8/3/2014                  5             0             0   \n",
      "2            0  21-08-2013                  4             0             0   \n",
      "3            0   10/2/2014                  6             0             0   \n",
      "4            0  19-01-2014                  5             0             0   \n",
      "...        ...         ...                ...           ...           ...   \n",
      "2235         1  13-06-2013                  5             0             0   \n",
      "2236         1   10/6/2014                  7             0             0   \n",
      "2237         0  25-01-2014                  6             0             1   \n",
      "2238         1  24-01-2014                  3             0             0   \n",
      "2239         1  15-10-2012                  7             0             0   \n",
      "\n",
      "      AcceptedCmp5  AcceptedCmp1  AcceptedCmp2  Complain  Response  \\\n",
      "0                0             0             0         0         1   \n",
      "1                0             0             0         0         0   \n",
      "2                0             0             0         0         0   \n",
      "3                0             0             0         0         0   \n",
      "4                0             0             0         0         0   \n",
      "...            ...           ...           ...       ...       ...   \n",
      "2235             0             0             0         0         0   \n",
      "2236             0             1             0         0         0   \n",
      "2237             0             0             0         0         0   \n",
      "2238             0             0             0         0         0   \n",
      "2239             0             0             0         0         1   \n",
      "\n",
      "      Total_Expenses  Num_Total_Purchases  Kids  \n",
      "0               1617                   25     0  \n",
      "1                 27                    6     2  \n",
      "2                776                   21     0  \n",
      "3                 53                    8     1  \n",
      "4                422                   19     1  \n",
      "...              ...                  ...   ...  \n",
      "2235            1341                   18     1  \n",
      "2236             444                   22     3  \n",
      "2237            1241                   19     0  \n",
      "2238             843                   23     1  \n",
      "2239             172                   11     2  \n",
      "\n",
      "[2240 rows x 19 columns]\n"
     ]
    }
   ],
   "source": [
    "# Assuming df is your dataframe containing 'Kidhome' and 'Teenhome'\n",
    "df['Kids'] = df['Kidhome'] + df['Teenhome']\n",
    "print(\"Dataset after grouping Kidhome' and 'Teenhome into 'Kids':\\n\", df)"
   ]
  },
  {
   "cell_type": "markdown",
   "id": "36f67474",
   "metadata": {
    "id": "36f67474"
   },
   "source": [
    "### 10. Group columns 'AcceptedCmp1 , 2 , 3 , 4, 5' and 'Response' as 'TotalAcceptedCmp'"
   ]
  },
  {
   "cell_type": "code",
   "execution_count": 11,
   "id": "ecc9109f",
   "metadata": {
    "id": "ecc9109f"
   },
   "outputs": [],
   "source": [
    "# Assuming df is your dataframe containing the mentioned columns\n",
    "df['TotalAcceptedCmp'] = df[['AcceptedCmp1', 'AcceptedCmp2', 'AcceptedCmp3', 'AcceptedCmp4', 'AcceptedCmp5', 'Response']].sum(axis=1)"
   ]
  },
  {
   "cell_type": "markdown",
   "id": "886bfb08",
   "metadata": {
    "id": "886bfb08"
   },
   "source": [
    "### 11. Drop those columns which we have used above for obtaining new features"
   ]
  },
  {
   "cell_type": "code",
   "execution_count": 12,
   "id": "e853e663",
   "metadata": {
    "id": "e853e663"
   },
   "outputs": [
    {
     "name": "stdout",
     "output_type": "stream",
     "text": [
      "Dataset after Dropping columns:\n",
      "          ID  Year_Birth   Education Marital_Status   Income  Kidhome  \\\n",
      "0      5524        1957  Graduation         Single  58138.0        0   \n",
      "1      2174        1954  Graduation         Single  46344.0        1   \n",
      "2      4141        1965  Graduation   Relationship  71613.0        0   \n",
      "3      6182        1984  Graduation   Relationship  26646.0        1   \n",
      "4      5324        1981         PhD   Relationship  58293.0        1   \n",
      "...     ...         ...         ...            ...      ...      ...   \n",
      "2235  10870        1967  Graduation   Relationship  61223.0        0   \n",
      "2236   4001        1946         PhD   Relationship  64014.0        2   \n",
      "2237   7270        1981  Graduation         Single  56981.0        0   \n",
      "2238   8235        1956      Master   Relationship  69245.0        0   \n",
      "2239   9405        1954         PhD   Relationship  52869.0        1   \n",
      "\n",
      "      Teenhome Dt_Customer  NumWebVisitsMonth  Complain  Total_Expenses  \\\n",
      "0            0    4/9/2012                  7         0            1617   \n",
      "1            1    8/3/2014                  5         0              27   \n",
      "2            0  21-08-2013                  4         0             776   \n",
      "3            0   10/2/2014                  6         0              53   \n",
      "4            0  19-01-2014                  5         0             422   \n",
      "...        ...         ...                ...       ...             ...   \n",
      "2235         1  13-06-2013                  5         0            1341   \n",
      "2236         1   10/6/2014                  7         0             444   \n",
      "2237         0  25-01-2014                  6         0            1241   \n",
      "2238         1  24-01-2014                  3         0             843   \n",
      "2239         1  15-10-2012                  7         0             172   \n",
      "\n",
      "      Num_Total_Purchases  Kids  TotalAcceptedCmp  \n",
      "0                      25     0                 1  \n",
      "1                       6     2                 0  \n",
      "2                      21     0                 0  \n",
      "3                       8     1                 0  \n",
      "4                      19     1                 0  \n",
      "...                   ...   ...               ...  \n",
      "2235                   18     1                 0  \n",
      "2236                   22     3                 1  \n",
      "2237                   19     0                 1  \n",
      "2238                   23     1                 0  \n",
      "2239                   11     2                 1  \n",
      "\n",
      "[2240 rows x 14 columns]\n"
     ]
    }
   ],
   "source": [
    "# Assuming df is your dataframe\n",
    "# First, create the new feature\n",
    "df['TotalAcceptedCmp'] = df[['AcceptedCmp1', 'AcceptedCmp2', 'AcceptedCmp3', 'AcceptedCmp4', 'AcceptedCmp5', 'Response']].sum(axis=1)\n",
    "\n",
    "# Now, drop the original columns used to create the new feature\n",
    "columns_to_drop = ['AcceptedCmp1', 'AcceptedCmp2', 'AcceptedCmp3', 'AcceptedCmp4', 'AcceptedCmp5', 'Response']\n",
    "df = df.drop(columns=columns_to_drop)\n",
    "print(\"Dataset after Dropping columns:\\n\", df)"
   ]
  },
  {
   "cell_type": "markdown",
   "id": "4225ced7",
   "metadata": {
    "id": "4225ced7"
   },
   "source": [
    "### 12. Extract 'age' using the column 'Year_Birth' and then drop the column 'Year_birth'"
   ]
  },
  {
   "cell_type": "code",
   "execution_count": 13,
   "id": "d517611e",
   "metadata": {
    "id": "d517611e"
   },
   "outputs": [
    {
     "name": "stdout",
     "output_type": "stream",
     "text": [
      "         ID   Education Marital_Status   Income  Kidhome  Teenhome  \\\n",
      "0      5524  Graduation         Single  58138.0        0         0   \n",
      "1      2174  Graduation         Single  46344.0        1         1   \n",
      "2      4141  Graduation   Relationship  71613.0        0         0   \n",
      "3      6182  Graduation   Relationship  26646.0        1         0   \n",
      "4      5324         PhD   Relationship  58293.0        1         0   \n",
      "...     ...         ...            ...      ...      ...       ...   \n",
      "2235  10870  Graduation   Relationship  61223.0        0         1   \n",
      "2236   4001         PhD   Relationship  64014.0        2         1   \n",
      "2237   7270  Graduation         Single  56981.0        0         0   \n",
      "2238   8235      Master   Relationship  69245.0        0         1   \n",
      "2239   9405         PhD   Relationship  52869.0        1         1   \n",
      "\n",
      "     Dt_Customer  NumWebVisitsMonth  Complain  Total_Expenses  \\\n",
      "0       4/9/2012                  7         0            1617   \n",
      "1       8/3/2014                  5         0              27   \n",
      "2     21-08-2013                  4         0             776   \n",
      "3      10/2/2014                  6         0              53   \n",
      "4     19-01-2014                  5         0             422   \n",
      "...          ...                ...       ...             ...   \n",
      "2235  13-06-2013                  5         0            1341   \n",
      "2236   10/6/2014                  7         0             444   \n",
      "2237  25-01-2014                  6         0            1241   \n",
      "2238  24-01-2014                  3         0             843   \n",
      "2239  15-10-2012                  7         0             172   \n",
      "\n",
      "      Num_Total_Purchases  Kids  TotalAcceptedCmp  Age  \n",
      "0                      25     0                 1   67  \n",
      "1                       6     2                 0   70  \n",
      "2                      21     0                 0   59  \n",
      "3                       8     1                 0   40  \n",
      "4                      19     1                 0   43  \n",
      "...                   ...   ...               ...  ...  \n",
      "2235                   18     1                 0   57  \n",
      "2236                   22     3                 1   78  \n",
      "2237                   19     0                 1   43  \n",
      "2238                   23     1                 0   68  \n",
      "2239                   11     2                 1   70  \n",
      "\n",
      "[2240 rows x 14 columns]\n"
     ]
    }
   ],
   "source": [
    "# Calculate age\n",
    "current_year = date.today().year\n",
    "df['Age'] = current_year - df['Year_Birth']\n",
    "\n",
    "# Drop the 'Year_Birth' column\n",
    "df.drop(columns=['Year_Birth'], inplace=True)\n",
    "\n",
    "# Display the resulting DataFrame\n",
    "print(df)\n"
   ]
  },
  {
   "cell_type": "markdown",
   "id": "f2d3c92d",
   "metadata": {
    "id": "f2d3c92d"
   },
   "source": [
    "### 13. Encode the categorical variables in the dataset"
   ]
  },
  {
   "cell_type": "code",
   "execution_count": 14,
   "id": "a3d7a3b7-4f67-427e-bfe4-132788cf39d8",
   "metadata": {},
   "outputs": [
    {
     "name": "stdout",
     "output_type": "stream",
     "text": [
      "         ID  Education  Marital_Status   Income  Kidhome  Teenhome  \\\n",
      "0      5524          2               1  58138.0        0         0   \n",
      "1      2174          2               1  46344.0        1         1   \n",
      "2      4141          2               0  71613.0        0         0   \n",
      "3      6182          2               0  26646.0        1         0   \n",
      "4      5324          4               0  58293.0        1         0   \n",
      "...     ...        ...             ...      ...      ...       ...   \n",
      "2235  10870          2               0  61223.0        0         1   \n",
      "2236   4001          4               0  64014.0        2         1   \n",
      "2237   7270          2               1  56981.0        0         0   \n",
      "2238   8235          3               0  69245.0        0         1   \n",
      "2239   9405          4               0  52869.0        1         1   \n",
      "\n",
      "      Dt_Customer  NumWebVisitsMonth  Complain  Total_Expenses  \\\n",
      "0             553                  7         0            1617   \n",
      "1             629                  5         0              27   \n",
      "2             293                  4         0             776   \n",
      "3              31                  6         0              53   \n",
      "4             216                  5         0             422   \n",
      "...           ...                ...       ...             ...   \n",
      "2235           98                  5         0            1341   \n",
      "2236           39                  7         0             444   \n",
      "2237          370                  6         0            1241   \n",
      "2238          349                  3         0             843   \n",
      "2239          145                  7         0             172   \n",
      "\n",
      "      Num_Total_Purchases  Kids  TotalAcceptedCmp  Age  \n",
      "0                      25     0                 1   67  \n",
      "1                       6     2                 0   70  \n",
      "2                      21     0                 0   59  \n",
      "3                       8     1                 0   40  \n",
      "4                      19     1                 0   43  \n",
      "...                   ...   ...               ...  ...  \n",
      "2235                   18     1                 0   57  \n",
      "2236                   22     3                 1   78  \n",
      "2237                   19     0                 1   43  \n",
      "2238                   23     1                 0   68  \n",
      "2239                   11     2                 1   70  \n",
      "\n",
      "[2240 rows x 14 columns]\n"
     ]
    }
   ],
   "source": [
    "from sklearn.preprocessing import LabelEncoder\n",
    "\n",
    "# Load data from an external file\n",
    "## df = pd.read_csv('your_file.csv')\n",
    "\n",
    "# Identify categorical columns\n",
    "categorical_columns = df.select_dtypes(include=['object']).columns\n",
    "\n",
    "# Apply label encoding to categorical columns\n",
    "label_encoders = {}\n",
    "\n",
    "for col in categorical_columns:\n",
    "    le = LabelEncoder()\n",
    "    df[col] = le.fit_transform(df[col])\n",
    "    label_encoders[col] = le\n",
    "\n",
    "# Save the transformed data to a new file\n",
    "print(df)"
   ]
  },
  {
   "cell_type": "code",
   "execution_count": 15,
   "id": "030cfc32",
   "metadata": {
    "id": "030cfc32"
   },
   "outputs": [
    {
     "name": "stdout",
     "output_type": "stream",
     "text": [
      "         ID  Education  Marital_Status   Income  Kidhome  Teenhome  \\\n",
      "0      5524          2               1  58138.0        0         0   \n",
      "1      2174          2               1  46344.0        1         1   \n",
      "2      4141          2               0  71613.0        0         0   \n",
      "3      6182          2               0  26646.0        1         0   \n",
      "4      5324          4               0  58293.0        1         0   \n",
      "...     ...        ...             ...      ...      ...       ...   \n",
      "2235  10870          2               0  61223.0        0         1   \n",
      "2236   4001          4               0  64014.0        2         1   \n",
      "2237   7270          2               1  56981.0        0         0   \n",
      "2238   8235          3               0  69245.0        0         1   \n",
      "2239   9405          4               0  52869.0        1         1   \n",
      "\n",
      "      Dt_Customer  NumWebVisitsMonth  Complain  Total_Expenses  \\\n",
      "0             553                  7         0            1617   \n",
      "1             629                  5         0              27   \n",
      "2             293                  4         0             776   \n",
      "3              31                  6         0              53   \n",
      "4             216                  5         0             422   \n",
      "...           ...                ...       ...             ...   \n",
      "2235           98                  5         0            1341   \n",
      "2236           39                  7         0             444   \n",
      "2237          370                  6         0            1241   \n",
      "2238          349                  3         0             843   \n",
      "2239          145                  7         0             172   \n",
      "\n",
      "      Num_Total_Purchases  Kids  TotalAcceptedCmp  Age  \n",
      "0                      25     0                 1   67  \n",
      "1                       6     2                 0   70  \n",
      "2                      21     0                 0   59  \n",
      "3                       8     1                 0   40  \n",
      "4                      19     1                 0   43  \n",
      "...                   ...   ...               ...  ...  \n",
      "2235                   18     1                 0   57  \n",
      "2236                   22     3                 1   78  \n",
      "2237                   19     0                 1   43  \n",
      "2238                   23     1                 0   68  \n",
      "2239                   11     2                 1   70  \n",
      "\n",
      "[2240 rows x 14 columns]\n"
     ]
    }
   ],
   "source": [
    "label_encoder = LabelEncoder()\n",
    "\n",
    "# Encode the 'Marital_Status ' column\n",
    "df['Marital_Status'] = label_encoder.fit_transform(df['Marital_Status'])\n",
    "\n",
    "print(df)"
   ]
  },
  {
   "cell_type": "markdown",
   "id": "9242e36d",
   "metadata": {
    "id": "9242e36d"
   },
   "source": [
    "### 14. Standardize the columns, so that values are in a particular range"
   ]
  },
  {
   "cell_type": "code",
   "execution_count": 16,
   "id": "dd0a446a-3bce-4aaa-b04e-676669b4aa5f",
   "metadata": {},
   "outputs": [
    {
     "name": "stdout",
     "output_type": "stream",
     "text": [
      "            ID  Education  Marital_Status    Income   Kidhome  Teenhome  \\\n",
      "0    -0.020999  -0.350141        1.346874  0.234063 -0.825218 -0.929894   \n",
      "1    -1.053058  -0.350141        1.346874 -0.234559  1.032559  0.906934   \n",
      "2    -0.447070  -0.350141       -0.742460  0.769478 -0.825218 -0.929894   \n",
      "3     0.181716  -0.350141       -0.742460 -1.017239  1.032559 -0.929894   \n",
      "4    -0.082614   1.428354       -0.742460  0.240221  1.032559 -0.929894   \n",
      "...        ...        ...             ...       ...       ...       ...   \n",
      "2235  1.625983  -0.350141       -0.742460  0.356642 -0.825218  0.906934   \n",
      "2236 -0.490200   1.428354       -0.742460  0.467539  2.890335  0.906934   \n",
      "2237  0.516905  -0.350141        1.346874  0.188091 -0.825218 -0.929894   \n",
      "2238  0.814199   0.539106       -0.742460  0.675388 -0.825218  0.906934   \n",
      "2239  1.174650   1.428354       -0.742460  0.024705  1.032559  0.906934   \n",
      "\n",
      "      Dt_Customer  NumWebVisitsMonth  Complain  Total_Expenses  \\\n",
      "0        1.187363           0.693904 -0.097282        1.679417   \n",
      "1        1.582039          -0.130463 -0.097282       -0.961275   \n",
      "2       -0.162843          -0.542647 -0.097282        0.282673   \n",
      "3       -1.523436           0.281720 -0.097282       -0.918094   \n",
      "4       -0.562712          -0.130463 -0.097282       -0.305254   \n",
      "...           ...                ...       ...             ...   \n",
      "2235    -1.175498          -0.130463 -0.097282        1.221032   \n",
      "2236    -1.481891           0.693904 -0.097282       -0.268717   \n",
      "2237     0.237026           0.281720 -0.097282        1.054951   \n",
      "2238     0.127971          -0.954831 -0.097282        0.393948   \n",
      "2239    -0.931422           0.693904 -0.097282       -0.720458   \n",
      "\n",
      "      Num_Total_Purchases      Kids  TotalAcceptedCmp       Age  \n",
      "0                1.320826 -1.264505          0.621248  0.985345  \n",
      "1               -1.154596  1.396361         -0.501912  1.235733  \n",
      "2                0.799685 -1.264505         -0.501912  0.317643  \n",
      "3               -0.894025  0.065928         -0.501912 -1.268149  \n",
      "4                0.539114  0.065928         -0.501912 -1.017761  \n",
      "...                   ...       ...               ...       ...  \n",
      "2235             0.408829  0.065928         -0.501912  0.150717  \n",
      "2236             0.929970  2.726794          0.621248  1.903435  \n",
      "2237             0.539114 -1.264505          0.621248 -1.017761  \n",
      "2238             1.060255  0.065928         -0.501912  1.068807  \n",
      "2239            -0.503169  1.396361          0.621248  1.235733  \n",
      "\n",
      "[2240 rows x 14 columns]\n"
     ]
    }
   ],
   "source": [
    "# Create a StandardScaler object\n",
    "scaler = StandardScaler()\n",
    "\n",
    "# Fit and transform the data\n",
    "df_standardized = pd.DataFrame(scaler.fit_transform(df), columns=df.columns)\n",
    "\n",
    "# Display the standardized data\n",
    "print(df_standardized)\n"
   ]
  },
  {
   "cell_type": "markdown",
   "id": "d063d2e2",
   "metadata": {
    "id": "d063d2e2"
   },
   "source": [
    "### 15. Apply PCA on the above dataset and determine the number of PCA components to be used so that 90-95% of the variance in data is explained by the same."
   ]
  },
  {
   "cell_type": "code",
   "execution_count": 24,
   "id": "6c9f4fa3-6570-402f-ab47-25a695e84cc8",
   "metadata": {},
   "outputs": [
    {
     "name": "stdout",
     "output_type": "stream",
     "text": [
      "ID                     0\n",
      "Education              0\n",
      "Marital_Status         0\n",
      "Kidhome                0\n",
      "Teenhome               0\n",
      "Dt_Customer            0\n",
      "NumWebVisitsMonth      0\n",
      "Complain               0\n",
      "Total_Expenses         0\n",
      "Num_Total_Purchases    0\n",
      "Kids                   0\n",
      "TotalAcceptedCmp       0\n",
      "Age                    0\n",
      "dtype: int64\n"
     ]
    }
   ],
   "source": [
    "\n",
    "# Check for NaN values\n",
    "print(df.isnull().sum())  # This will show NaN counts in each column\n",
    "\n"
   ]
  },
  {
   "cell_type": "code",
   "execution_count": 23,
   "id": "32191ffd-a76c-49e9-8474-97171999c4d9",
   "metadata": {},
   "outputs": [],
   "source": [
    "df.drop('Income', axis=1, inplace=True)"
   ]
  },
  {
   "cell_type": "code",
   "execution_count": 25,
   "id": "417e3b3c-a3de-484f-ae1b-37996d5177dd",
   "metadata": {},
   "outputs": [
    {
     "name": "stdout",
     "output_type": "stream",
     "text": [
      "Number of PCA components to explain 90% variance: 9\n"
     ]
    }
   ],
   "source": [
    "import pandas as pd\n",
    "from sklearn.decomposition import PCA\n",
    "from sklearn.preprocessing import StandardScaler\n",
    "\n",
    "# Load your dataset\n",
    "##df = pd.read_csv('data.csv')\n",
    "\n",
    "# Check if there are samples in the dataset\n",
    "if df.shape[0] == 0:\n",
    "    print(\"Error: Dataset has 0 samples. PCA cannot be performed.\")\n",
    "else:\n",
    "    # Separate features and target if applicable\n",
    "    # Example assumes all columns except the target are features\n",
    "    X = df.drop(columns=['Education'])  # Adjust 'target_column' as needed\n",
    "    y = df['Education']  # If applicable\n",
    "\n",
    "    # Perform standardization\n",
    "    scaler = StandardScaler()\n",
    "    X_scaled = scaler.fit_transform(X)\n",
    "\n",
    "    # Apply PCA\n",
    "    pca = PCA(n_components=min(X.shape[0], X.shape[1]))  # Use min for safety\n",
    "    pca.fit(X_scaled)\n",
    "\n",
    "    # Determine number of components explaining desired variance\n",
    "    cumulative_variance = np.cumsum(pca.explained_variance_ratio_)\n",
    "    n_components = np.argmax(cumulative_variance >= 0.90) + 1  # Adjust for variance threshold\n",
    "\n",
    "    print(f\"Number of PCA components to explain 90% variance: {n_components}\")\n"
   ]
  },
  {
   "cell_type": "markdown",
   "id": "b2df19d7",
   "metadata": {
    "id": "b2df19d7"
   },
   "source": [
    "### 16. Apply K-means clustering and segment the data (Use PCA transformed data for clustering)"
   ]
  },
  {
   "cell_type": "code",
   "execution_count": 27,
   "id": "00f3bc03-ffe2-4679-9248-63ee829fe235",
   "metadata": {},
   "outputs": [
    {
     "data": {
      "image/png": "[encoded data removed]",
      "text/plain": [
       "<Figure size 640x480 with 1 Axes>"
      ]
     },
     "metadata": {},
     "output_type": "display_data"
    }
   ],
   "source": [
    "from sklearn.cluster import KMeans\n",
    "import matplotlib.pyplot as plt\n",
    "\n",
    "X=df\n",
    "wcss = []\n",
    "for i in range(1, 11):\n",
    "    kmeans = KMeans(n_clusters=i, init='k-means++', max_iter=300, n_init=10, random_state=42)\n",
    "    kmeans.fit(X)\n",
    "    wcss.append(kmeans.inertia_)\n",
    "\n",
    "plt.plot(range(1, 11), wcss)\n",
    "plt.title('Elbow Method')\n",
    "plt.xlabel('Number of clusters')\n",
    "plt.ylabel('WCSS')\n",
    "plt.show()\n"
   ]
  },
  {
   "cell_type": "code",
   "execution_count": 28,
   "id": "dd42665c-b700-462e-a92f-edc07e902b3e",
   "metadata": {},
   "outputs": [],
   "source": [
    "optimal_k = 3  # Example optimal K value\n",
    "kmeans = KMeans(n_clusters=optimal_k, init='k-means++', max_iter=300, n_init=10, random_state=42)\n",
    "y_kmeans = kmeans.fit_predict(X)\n"
   ]
  },
  {
   "cell_type": "code",
   "execution_count": 29,
   "id": "6b3f9636-c2c1-40ae-b649-d85fab60cf0c",
   "metadata": {},
   "outputs": [
    {
     "name": "stdout",
     "output_type": "stream",
     "text": [
      "Silhouette Score: 0.5232780911693423\n"
     ]
    }
   ],
   "source": [
    "from sklearn.metrics import silhouette_score\n",
    "\n",
    "silhouette_avg = silhouette_score(X, y_kmeans)\n",
    "print(f'Silhouette Score: {silhouette_avg}')\n"
   ]
  },
  {
   "cell_type": "markdown",
   "id": "d8463aed",
   "metadata": {
    "id": "d8463aed"
   },
   "source": [
    "### 17. Apply Agglomerative clustering and segment the data (Use Original data for clustering), and perform cluster analysis by doing bivariate analysis between the cluster label and different features and write your observations."
   ]
  },
  {
   "cell_type": "code",
   "execution_count": 31,
   "id": "ffd91e56-f42b-4bde-813d-d32d4a5e79c2",
   "metadata": {},
   "outputs": [
    {
     "data": {
      "image/png": "[encoded data removed]",
      "text/plain": [
       "<Figure size 1000x700 with 1 Axes>"
      ]
     },
     "metadata": {},
     "output_type": "display_data"
    }
   ],
   "source": [
    "import matplotlib.pyplot as plt\n",
    "from scipy.cluster.hierarchy import dendrogram, linkage\n",
    "\n",
    "linked = linkage(X, method='ward')\n",
    "plt.figure(figsize=(10, 7))\n",
    "dendrogram(linked, orientation='top', distance_sort='descending', show_leaf_counts=True)\n",
    "plt.title('Dendrogram')\n",
    "plt.xlabel('Sample index')\n",
    "plt.ylabel('Distance')\n",
    "plt.show()\n"
   ]
  },
  {
   "cell_type": "code",
   "execution_count": 32,
   "id": "ca5f6ac6-6cf7-4b00-bcea-69f40cfdf611",
   "metadata": {},
   "outputs": [],
   "source": [
    "from sklearn.cluster import AgglomerativeClustering\n",
    "\n",
    "optimal_k = 10  # Example optimal K value\n",
    "agglomerative = AgglomerativeClustering(n_clusters=optimal_k, metric='euclidean', linkage='ward')\n",
    "y_agg = agglomerative.fit_predict(X)\n"
   ]
  },
  {
   "cell_type": "code",
   "execution_count": 33,
   "id": "28c05de6-a089-47bf-8ea1-3c33e69884d7",
   "metadata": {},
   "outputs": [
    {
     "name": "stdout",
     "output_type": "stream",
     "text": [
      "Silhouette Score: 0.30472967551490765\n"
     ]
    }
   ],
   "source": [
    "from sklearn.metrics import silhouette_score\n",
    "\n",
    "silhouette_avg = silhouette_score(X, y_agg)\n",
    "print(f'Silhouette Score: {silhouette_avg}')\n"
   ]
  },
  {
   "cell_type": "markdown",
   "id": "797a5ecd",
   "metadata": {
    "id": "797a5ecd"
   },
   "source": [
    "### Visualization and Interpretation of results"
   ]
  },
  {
   "cell_type": "code",
   "execution_count": null,
   "id": "d1e75760",
   "metadata": {
    "id": "d1e75760"
   },
   "outputs": [],
   "source": []
  },
  {
   "cell_type": "markdown",
   "id": "36afd95b",
   "metadata": {
    "id": "36afd95b"
   },
   "source": [
    "-----\n",
    "## Happy Learning\n",
    "-----"
   ]
  }
 ],
 "metadata": {
  "colab": {
   "collapsed_sections": [
    "36afd95b"
   ],
   "name": "Unsupervised Learning - Lab session.ipynb",
   "provenance": []
  },
  "kernelspec": {
   "display_name": "Python 3 (ipykernel)",
   "language": "python",
   "name": "python3"
  },
  "language_info": {
   "codemirror_mode": {
    "name": "ipython",
    "version": 3
   },
   "file_extension": ".py",
   "mimetype": "text/x-python",
   "name": "python",
   "nbconvert_exporter": "python",
   "pygments_lexer": "ipython3",
   "version": "3.11.7"
  }
 },
 "nbformat": 4,
 "nbformat_minor": 5
}
